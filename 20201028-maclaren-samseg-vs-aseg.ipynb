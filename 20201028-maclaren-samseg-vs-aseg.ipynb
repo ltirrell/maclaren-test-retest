{
 "cells": [
  {
   "cell_type": "markdown",
   "metadata": {},
   "source": [
    "# MacLaren test-retest comparison\n",
    "Comparing results of running:\n",
    "\n",
    "1. Samseg v6.1 (via THINQ v1.0.0-rc.11 results)\n",
    "2. Samseg v7.1.1 (via recon-all in FreeSurfer v7.1.1)\n",
    "3. FreeSurfer v6.1\n",
    "4. FreeSurfer v7.1.1 \n",
    "\n",
    "On the [MacLaren test-retest dataset](https://openneuro.org/datasets/ds000239/versions/00001)\n",
    "\n"
   ]
  },
  {
   "cell_type": "markdown",
   "metadata": {},
   "source": [
    "## Get Samseg v6.1 data (via THINQ v.1.0.0-rc.11)\n",
    "```\n",
    "mkdir -p /home/paul/cmet/data/20200609-mclaren-1.0.0-rc.11-42-g8d976b0--take4\n",
    "cd /home/paul/cmet/data/20200609-mclaren-1.0.0-rc.11-42-g8d976b0--take4\n",
    "aws s3 cp s3://cmet-scratch/maclaren-cmeds/demographics.tsv .\n",
    "aws s3 cp \\\n",
    "  --recursive \\\n",
    "  --exclude \"*\" \\\n",
    "  --include \"*subject_info.json\" \\\n",
    "  --include \"*.pdf\" \\\n",
    "  s3://cmet-scratch/20200609-mclaren-1.0.0-rc.11-42-g8d976b0--take4/maclaren-cmeds/ .\n",
    "find . -type d -name 'cache' -exec rm -rf {} \\;\n",
    "```\n",
    "\n",
    "Get rid of cached `subject_info.json` files:\n",
    "\n",
    "```\n",
    "find . -type d -name 'cache' -exec rm -rf {} \\;\n",
    "```"
   ]
  },
  {
   "cell_type": "markdown",
   "metadata": {},
   "source": [
    "## Get FreeSurfer v6.1 data \n",
    "```\n",
    "mkdir -p /home/paul/cmet/data/20200714-maclaren-fs6/\n",
    "cd /home/paul/cmet/data/20200714-maclaren-fs6/\n",
    "aws s3 cp s3://cmet-scratch/maclaren-cmeds/demographics.tsv .\n",
    "aws s3 cp \\\n",
    "  --recursive \\\n",
    "  --exclude \"*\" \\\n",
    "  --include \"*.stats\" \\\n",
    "  s3://cmet-scratch/20200714-maclaren-fs6/ .\n",
    "```"
   ]
  },
  {
   "cell_type": "markdown",
   "metadata": {},
   "source": [
    "## Get v7.1 data (both samseg and aseg)\n",
    "```\n",
    "mkdir -p /home/paul/cmet/data/20201006-maclaren-fs-7.1-samseg-aseg-long/\n",
    "cd /home/paul/cmet/data/20201006-maclaren-fs-7.1-samseg-aseg-long/\n",
    "aws s3 cp s3://cmet-scratch/maclaren-cmeds/demographics.tsv .\n",
    "aws s3 cp \\\n",
    "  --recursive \\\n",
    "  --exclude \"*\" \\\n",
    "  --include \"*.stats\" \\\n",
    "  s3://cmet-scratch/20201006-maclaren-fs-7.1-samseg-aseg-long/ .\n",
    "```\n",
    "\n",
    "### Split data into seperate subdirs\n",
    "\n",
    "To faciliate recursive processing of *.stats files\n",
    "```\n",
    "cd /home/paul/cmet/data/20201006-maclaren-fs-7.1-samseg-aseg-long/\n",
    "mkdir cross\n",
    "mkdir long\n",
    "mkdir long-base\n",
    "mv sub-??_run-?? ./cross/\n",
    "mv sub-??_base ./long-base\n",
    "mv sub* ./long/\n",
    "```\n",
    "\n",
    "### Rename the long dirs\n",
    "This is gross\n",
    "```\n",
    "cd ./long\n",
    "for DIR_STEM in `ls -1|sed 's/\\..*//'`; do  SUB_NUM=`echo $DIR_STEM|sed 's/sub-//'|sed 's/_run.*//'`; mv ${DIR_STEM}.long.sub-${SUB_NUM}_base ${DIR_STEM}; done\n",
    "```"
   ]
  },
  {
   "cell_type": "code",
   "execution_count": 32,
   "metadata": {},
   "outputs": [],
   "source": [
    "import json\n",
    "import os\n",
    "import fnmatch\n",
    "import pandas as pd\n",
    "import matplotlib.pyplot as plt\n",
    "import seaborn as sns\n",
    "import numpy as np\n",
    "# imports find_json_files(); load_json_file(); load_dataset(); load_fs_dataset()\n",
    "from cmeds import *\n",
    "# imports calc_cvs(); session_permute(); monte_carlo_perm_test\n",
    "from test_retest import *"
   ]
  },
  {
   "cell_type": "code",
   "execution_count": 33,
   "metadata": {},
   "outputs": [],
   "source": [
    "structs_of_interest = [\n",
    "    'Left-Lateral-Ventricle',\n",
    "    'Left-Hippocampus',\n",
    "    'Left-Amygdala',\n",
    "    'Left-Caudate',\n",
    "    'Left-Putamen',\n",
    "    'Right-Lateral-Ventricle',\n",
    "    'Right-Hippocampus',\n",
    "    'Right-Amygdala',\n",
    "    'Right-Caudate',\n",
    "    'Right-Putamen'\n",
    "]\n",
    "\n",
    "fs61aseg_demofile = '/home/paul/cmet/data/20200714-maclaren-fs6/demographics.tsv'\n",
    "fs61aseg_datadir = '/home/paul/cmet/data/20200714-maclaren-fs6/'\n",
    "\n",
    "fs61samseg_demofile = '/home/paul/cmet/data/20200609-mclaren-1.0.0-rc.11-42-g8d976b0--take4/demographics.tsv'\n",
    "fs61samseg_datadir = '/home/paul/cmet/data/20200609-mclaren-1.0.0-rc.11-42-g8d976b0--take4/'\n",
    "\n",
    "fs71aseg_demofile = '/home/paul/cmet/data/20201006-maclaren-fs-7.1-samseg-aseg-long/demographics.tsv'\n",
    "fs71aseg_datadir = '/home/paul/cmet/data/20201006-maclaren-fs-7.1-samseg-aseg-long/cross'\n",
    "\n",
    "fs71samseg_demofile = '/home/paul/cmet/data/20201006-maclaren-fs-7.1-samseg-aseg-long/demographics.tsv'\n",
    "fs71aseg_datadir = '/home/paul/cmet/data/20201006-maclaren-fs-7.1-samseg-aseg-long/cross'"
   ]
  },
  {
   "cell_type": "markdown",
   "metadata": {},
   "source": [
    "## Load data into pandas dataframes"
   ]
  },
  {
   "cell_type": "code",
   "execution_count": 34,
   "metadata": {},
   "outputs": [
    {
     "name": "stdout",
     "output_type": "stream",
     "text": [
      "Dropping the following subjects []\n"
     ]
    }
   ],
   "source": [
    "maclaren_fs61aseg_df = load_fs_dataset(fs61aseg_datadir, fs61aseg_demofile, structs_of_interest)"
   ]
  },
  {
   "cell_type": "code",
   "execution_count": 35,
   "metadata": {},
   "outputs": [
    {
     "name": "stdout",
     "output_type": "stream",
     "text": [
      "Ignoring Subject (did it error out?) sub-01_run-39\n",
      "Ignoring Subject (did it error out?) sub-01_run-02\n",
      "Ignoring Subject (did it error out?) sub-01_run-09\n",
      "Ignoring Subject (did it error out?) sub-01_run-08\n",
      "Ignoring Subject (did it error out?) sub-01_run-24\n",
      "Ignoring Subject (did it error out?) sub-01_run-33\n",
      "Ignoring Subject (did it error out?) sub-01_run-13\n",
      "Ignoring Subject (did it error out?) sub-01_run-16\n",
      "Ignoring Subject (did it error out?) sub-01_run-14\n",
      "Ignoring Subject (did it error out?) sub-01_run-32\n",
      "Ignoring Subject (did it error out?) sub-01_run-01\n",
      "Ignoring Subject (did it error out?) sub-01_run-36\n",
      "Ignoring Subject (did it error out?) sub-01_run-06\n",
      "Ignoring Subject (did it error out?) sub-01_run-26\n",
      "Ignoring Subject (did it error out?) sub-01_run-27\n",
      "Ignoring Subject (did it error out?) sub-01_run-40\n",
      "Ignoring Subject (did it error out?) sub-01_run-03\n",
      "Ignoring Subject (did it error out?) sub-01_run-19\n",
      "Ignoring Subject (did it error out?) sub-01_run-18\n",
      "Ignoring Subject (did it error out?) sub-01_run-05\n",
      "Ignoring Subject (did it error out?) sub-01_run-31\n",
      "Ignoring Subject (did it error out?) sub-01_run-20\n",
      "Ignoring Subject (did it error out?) sub-01_run-25\n",
      "Ignoring Subject (did it error out?) sub-01_run-30\n",
      "Ignoring Subject (did it error out?) sub-01_run-04\n",
      "Ignoring Subject (did it error out?) sub-01_run-11\n",
      "Ignoring Subject (did it error out?) sub-01_run-38\n",
      "Ignoring Subject (did it error out?) sub-01_run-07\n",
      "Ignoring Subject (did it error out?) sub-01_run-10\n",
      "Ignoring Subject (did it error out?) sub-01_run-37\n",
      "Ignoring Subject (did it error out?) sub-01_run-15\n",
      "Ignoring Subject (did it error out?) sub-01_run-35\n",
      "Ignoring Subject (did it error out?) sub-01_run-21\n",
      "Dropping the following subjects ['sub-01_run-39', 'sub-01_run-02', 'sub-01_run-09', 'sub-01_run-08', 'sub-01_run-24', 'sub-01_run-33', 'sub-01_run-13', 'sub-01_run-16', 'sub-01_run-14', 'sub-01_run-32', 'sub-01_run-01', 'sub-01_run-36', 'sub-01_run-06', 'sub-01_run-26', 'sub-01_run-27', 'sub-01_run-40', 'sub-01_run-03', 'sub-01_run-19', 'sub-01_run-18', 'sub-01_run-05', 'sub-01_run-31', 'sub-01_run-20', 'sub-01_run-25', 'sub-01_run-30', 'sub-01_run-04', 'sub-01_run-11', 'sub-01_run-38', 'sub-01_run-07', 'sub-01_run-10', 'sub-01_run-37', 'sub-01_run-15', 'sub-01_run-35', 'sub-01_run-21']\n"
     ]
    }
   ],
   "source": [
    "maclaren_fs61samseg_df, maclaren_fs61samseg_df_normative = load_dataset(fs61samseg_datadir, fs61samseg_demofile, drop_subjects=[], vol_data_src='volume')"
   ]
  },
  {
   "cell_type": "code",
   "execution_count": 36,
   "metadata": {},
   "outputs": [
    {
     "name": "stdout",
     "output_type": "stream",
     "text": [
      "Dropping the following subjects []\n"
     ]
    }
   ],
   "source": [
    "maclaren_fs71aseg_df = load_fs_dataset(fs71aseg_datadir, fs61aseg_demofile, structs_of_interest)"
   ]
  },
  {
   "cell_type": "code",
   "execution_count": 37,
   "metadata": {},
   "outputs": [
    {
     "name": "stdout",
     "output_type": "stream",
     "text": [
      "Dropping the following subjects []\n"
     ]
    }
   ],
   "source": [
    "maclaren_fs71samseg_df = load_fssamseg_dataset(fs71aseg_datadir, fs61aseg_demofile, structs_of_interest, )"
   ]
  },
  {
   "cell_type": "code",
   "execution_count": 38,
   "metadata": {},
   "outputs": [],
   "source": [
    "# Add some lateral regions together so we can directly compare to table 1 in MacLaren et al.\n",
    "# https://www.nature.com/articles/sdata201437/tables/2\n",
    "regions = [             \n",
    "            [ ['Left-Hippocampus', 'Right-Hippocampus'],'Hippocampus' ],\n",
    "            [ ['Left-Lateral-Ventricle', 'Right-Lateral-Ventricle'],'Lateral-Ventricles' ],\n",
    "            [ ['Left-Amygdala', 'Right-Amygdala',],'Amygdala' ],\n",
    "            [ ['Left-Putamen', 'Right-Putamen'],'Putamen' ],\n",
    "            [ ['Left-Caudate', 'Right-Caudate'],'Caudate' ],\n",
    "          ]\n",
    "\n",
    "maclaren_fs61aseg_df = add_regions(maclaren_fs61aseg_df,regions)\n",
    "maclaren_fs61samseg_df = add_regions(maclaren_fs61samseg_df,regions)\n",
    "maclaren_fs71aseg_df = add_regions(maclaren_fs71aseg_df,regions)\n",
    "maclaren_fs71samseg_df = add_regions(maclaren_fs71samseg_df,regions)"
   ]
  },
  {
   "cell_type": "code",
   "execution_count": 39,
   "metadata": {},
   "outputs": [],
   "source": [
    "# Setup for permutation tests\n",
    "\n",
    "# Since samseg 6 has some issues with sub1, remove from all analyses\n",
    "session_list= [1,2,3,4,5,6,7,8,9,10,11,12,13,14,15,16,17,18,19,20]\n",
    "subject_list= [2,3]\n",
    "\n",
    "# The column name that holds session info in the demographics.tsv\n",
    "session_col='session'\n",
    "# The column name that holds subject info in the demographics.tsv\n",
    "subject_col='subject_num'\n",
    "\n",
    "# To match with the rows of table 1 in https://www.nature.com/articles/sdata201437/tables/2\n",
    "structs_of_interest = ['Hippocampus', 'Lateral-Ventricles', 'Amygdala', 'Putamen', 'Caudate']"
   ]
  },
  {
   "cell_type": "code",
   "execution_count": 45,
   "metadata": {},
   "outputs": [],
   "source": [
    "# Run the permutation tests, this will take a while for large n\n",
    "n = 10000\n",
    "maclaren_fs61aseg_covs_df = monte_carlo_perm_test(maclaren_fs61aseg_df, subject_list, session_list, subject_col, session_col, structs_of_interest, n_itrs=n, method='gluer')\n",
    "maclaren_fs61samseg_covs_df = monte_carlo_perm_test(maclaren_fs61samseg_df, subject_list, session_list, subject_col, session_col, structs_of_interest, n_itrs=n, method='gluer')\n",
    "maclaren_fs71aseg_covs_df = monte_carlo_perm_test(maclaren_fs71aseg_df, subject_list, session_list, subject_col, session_col, structs_of_interest, n_itrs=n, method='gluer')\n",
    "maclaren_fs71samseg_covs_df = monte_carlo_perm_test(maclaren_fs71samseg_df, subject_list, session_list, subject_col, session_col, structs_of_interest, n_itrs=n, method='gluer')"
   ]
  },
  {
   "cell_type": "markdown",
   "metadata": {},
   "source": [
    "These tables are comparable to [Table 1 in MacLaren et al](https://www.nature.com/articles/sdata201437/tables/2)"
   ]
  },
  {
   "cell_type": "code",
   "execution_count": 46,
   "metadata": {},
   "outputs": [
    {
     "data": {
      "text/html": [
       "<div>\n",
       "<style scoped>\n",
       "    .dataframe tbody tr th:only-of-type {\n",
       "        vertical-align: middle;\n",
       "    }\n",
       "\n",
       "    .dataframe tbody tr th {\n",
       "        vertical-align: top;\n",
       "    }\n",
       "\n",
       "    .dataframe thead th {\n",
       "        text-align: right;\n",
       "    }\n",
       "</style>\n",
       "<table border=\"1\" class=\"dataframe\">\n",
       "  <thead>\n",
       "    <tr style=\"text-align: right;\">\n",
       "      <th></th>\n",
       "      <th>Hippocampus</th>\n",
       "      <th>Lateral-Ventricles</th>\n",
       "      <th>Amygdala</th>\n",
       "      <th>Putamen</th>\n",
       "      <th>Caudate</th>\n",
       "    </tr>\n",
       "  </thead>\n",
       "  <tbody>\n",
       "    <tr>\n",
       "      <th>mean-vol</th>\n",
       "      <td>8522.698750</td>\n",
       "      <td>13563.502500</td>\n",
       "      <td>3424.332500</td>\n",
       "      <td>9855.987500</td>\n",
       "      <td>6863.805000</td>\n",
       "    </tr>\n",
       "    <tr>\n",
       "      <th>total-cov</th>\n",
       "      <td>2.053487</td>\n",
       "      <td>2.081874</td>\n",
       "      <td>3.230995</td>\n",
       "      <td>1.895118</td>\n",
       "      <td>1.706345</td>\n",
       "    </tr>\n",
       "    <tr>\n",
       "      <th>session-cov</th>\n",
       "      <td>2.258124</td>\n",
       "      <td>0.902939</td>\n",
       "      <td>3.159073</td>\n",
       "      <td>2.135972</td>\n",
       "      <td>1.557038</td>\n",
       "    </tr>\n",
       "    <tr>\n",
       "      <th>abs-diff-cov</th>\n",
       "      <td>0.204637</td>\n",
       "      <td>1.178935</td>\n",
       "      <td>0.071922</td>\n",
       "      <td>0.240854</td>\n",
       "      <td>0.149307</td>\n",
       "    </tr>\n",
       "    <tr>\n",
       "      <th>p-vals</th>\n",
       "      <td>0.217100</td>\n",
       "      <td>0.000000</td>\n",
       "      <td>0.782500</td>\n",
       "      <td>0.157300</td>\n",
       "      <td>0.291100</td>\n",
       "    </tr>\n",
       "  </tbody>\n",
       "</table>\n",
       "</div>"
      ],
      "text/plain": [
       "              Hippocampus  Lateral-Ventricles     Amygdala      Putamen  \\\n",
       "mean-vol      8522.698750        13563.502500  3424.332500  9855.987500   \n",
       "total-cov        2.053487            2.081874     3.230995     1.895118   \n",
       "session-cov      2.258124            0.902939     3.159073     2.135972   \n",
       "abs-diff-cov     0.204637            1.178935     0.071922     0.240854   \n",
       "p-vals           0.217100            0.000000     0.782500     0.157300   \n",
       "\n",
       "                  Caudate  \n",
       "mean-vol      6863.805000  \n",
       "total-cov        1.706345  \n",
       "session-cov      1.557038  \n",
       "abs-diff-cov     0.149307  \n",
       "p-vals           0.291100  "
      ]
     },
     "execution_count": 46,
     "metadata": {},
     "output_type": "execute_result"
    }
   ],
   "source": [
    "maclaren_fs61aseg_covs_df"
   ]
  },
  {
   "cell_type": "code",
   "execution_count": 47,
   "metadata": {},
   "outputs": [
    {
     "data": {
      "text/html": [
       "<div>\n",
       "<style scoped>\n",
       "    .dataframe tbody tr th:only-of-type {\n",
       "        vertical-align: middle;\n",
       "    }\n",
       "\n",
       "    .dataframe tbody tr th {\n",
       "        vertical-align: top;\n",
       "    }\n",
       "\n",
       "    .dataframe thead th {\n",
       "        text-align: right;\n",
       "    }\n",
       "</style>\n",
       "<table border=\"1\" class=\"dataframe\">\n",
       "  <thead>\n",
       "    <tr style=\"text-align: right;\">\n",
       "      <th></th>\n",
       "      <th>Hippocampus</th>\n",
       "      <th>Lateral-Ventricles</th>\n",
       "      <th>Amygdala</th>\n",
       "      <th>Putamen</th>\n",
       "      <th>Caudate</th>\n",
       "    </tr>\n",
       "  </thead>\n",
       "  <tbody>\n",
       "    <tr>\n",
       "      <th>mean-vol</th>\n",
       "      <td>8660.343750</td>\n",
       "      <td>15643.992500</td>\n",
       "      <td>3290.566250</td>\n",
       "      <td>11229.761250</td>\n",
       "      <td>7051.126250</td>\n",
       "    </tr>\n",
       "    <tr>\n",
       "      <th>total-cov</th>\n",
       "      <td>0.732712</td>\n",
       "      <td>1.428306</td>\n",
       "      <td>1.213812</td>\n",
       "      <td>1.103016</td>\n",
       "      <td>0.928835</td>\n",
       "    </tr>\n",
       "    <tr>\n",
       "      <th>session-cov</th>\n",
       "      <td>0.754715</td>\n",
       "      <td>0.950413</td>\n",
       "      <td>1.216737</td>\n",
       "      <td>0.979911</td>\n",
       "      <td>0.789903</td>\n",
       "    </tr>\n",
       "    <tr>\n",
       "      <th>abs-diff-cov</th>\n",
       "      <td>0.022003</td>\n",
       "      <td>0.477893</td>\n",
       "      <td>0.002925</td>\n",
       "      <td>0.123105</td>\n",
       "      <td>0.138931</td>\n",
       "    </tr>\n",
       "    <tr>\n",
       "      <th>p-vals</th>\n",
       "      <td>0.711600</td>\n",
       "      <td>0.000000</td>\n",
       "      <td>0.975800</td>\n",
       "      <td>0.161700</td>\n",
       "      <td>0.052900</td>\n",
       "    </tr>\n",
       "  </tbody>\n",
       "</table>\n",
       "</div>"
      ],
      "text/plain": [
       "              Hippocampus  Lateral-Ventricles     Amygdala       Putamen  \\\n",
       "mean-vol      8660.343750        15643.992500  3290.566250  11229.761250   \n",
       "total-cov        0.732712            1.428306     1.213812      1.103016   \n",
       "session-cov      0.754715            0.950413     1.216737      0.979911   \n",
       "abs-diff-cov     0.022003            0.477893     0.002925      0.123105   \n",
       "p-vals           0.711600            0.000000     0.975800      0.161700   \n",
       "\n",
       "                  Caudate  \n",
       "mean-vol      7051.126250  \n",
       "total-cov        0.928835  \n",
       "session-cov      0.789903  \n",
       "abs-diff-cov     0.138931  \n",
       "p-vals           0.052900  "
      ]
     },
     "execution_count": 47,
     "metadata": {},
     "output_type": "execute_result"
    }
   ],
   "source": [
    "maclaren_fs61samseg_covs_df"
   ]
  },
  {
   "cell_type": "code",
   "execution_count": 48,
   "metadata": {},
   "outputs": [
    {
     "data": {
      "text/html": [
       "<div>\n",
       "<style scoped>\n",
       "    .dataframe tbody tr th:only-of-type {\n",
       "        vertical-align: middle;\n",
       "    }\n",
       "\n",
       "    .dataframe tbody tr th {\n",
       "        vertical-align: top;\n",
       "    }\n",
       "\n",
       "    .dataframe thead th {\n",
       "        text-align: right;\n",
       "    }\n",
       "</style>\n",
       "<table border=\"1\" class=\"dataframe\">\n",
       "  <thead>\n",
       "    <tr style=\"text-align: right;\">\n",
       "      <th></th>\n",
       "      <th>Hippocampus</th>\n",
       "      <th>Lateral-Ventricles</th>\n",
       "      <th>Amygdala</th>\n",
       "      <th>Putamen</th>\n",
       "      <th>Caudate</th>\n",
       "    </tr>\n",
       "  </thead>\n",
       "  <tbody>\n",
       "    <tr>\n",
       "      <th>mean-vol</th>\n",
       "      <td>8590.835000</td>\n",
       "      <td>13670.435000</td>\n",
       "      <td>3510.177500</td>\n",
       "      <td>9883.452500</td>\n",
       "      <td>6867.283750</td>\n",
       "    </tr>\n",
       "    <tr>\n",
       "      <th>total-cov</th>\n",
       "      <td>1.670197</td>\n",
       "      <td>1.910059</td>\n",
       "      <td>3.013569</td>\n",
       "      <td>1.429833</td>\n",
       "      <td>1.996576</td>\n",
       "    </tr>\n",
       "    <tr>\n",
       "      <th>session-cov</th>\n",
       "      <td>1.749787</td>\n",
       "      <td>0.728072</td>\n",
       "      <td>3.255942</td>\n",
       "      <td>1.496864</td>\n",
       "      <td>1.644559</td>\n",
       "    </tr>\n",
       "    <tr>\n",
       "      <th>abs-diff-cov</th>\n",
       "      <td>0.079589</td>\n",
       "      <td>1.181987</td>\n",
       "      <td>0.242373</td>\n",
       "      <td>0.067031</td>\n",
       "      <td>0.352017</td>\n",
       "    </tr>\n",
       "    <tr>\n",
       "      <th>p-vals</th>\n",
       "      <td>0.572000</td>\n",
       "      <td>0.000000</td>\n",
       "      <td>0.317200</td>\n",
       "      <td>0.565700</td>\n",
       "      <td>0.022300</td>\n",
       "    </tr>\n",
       "  </tbody>\n",
       "</table>\n",
       "</div>"
      ],
      "text/plain": [
       "              Hippocampus  Lateral-Ventricles     Amygdala      Putamen  \\\n",
       "mean-vol      8590.835000        13670.435000  3510.177500  9883.452500   \n",
       "total-cov        1.670197            1.910059     3.013569     1.429833   \n",
       "session-cov      1.749787            0.728072     3.255942     1.496864   \n",
       "abs-diff-cov     0.079589            1.181987     0.242373     0.067031   \n",
       "p-vals           0.572000            0.000000     0.317200     0.565700   \n",
       "\n",
       "                  Caudate  \n",
       "mean-vol      6867.283750  \n",
       "total-cov        1.996576  \n",
       "session-cov      1.644559  \n",
       "abs-diff-cov     0.352017  \n",
       "p-vals           0.022300  "
      ]
     },
     "execution_count": 48,
     "metadata": {},
     "output_type": "execute_result"
    }
   ],
   "source": [
    "maclaren_fs71aseg_covs_df"
   ]
  },
  {
   "cell_type": "code",
   "execution_count": 49,
   "metadata": {},
   "outputs": [
    {
     "data": {
      "text/html": [
       "<div>\n",
       "<style scoped>\n",
       "    .dataframe tbody tr th:only-of-type {\n",
       "        vertical-align: middle;\n",
       "    }\n",
       "\n",
       "    .dataframe tbody tr th {\n",
       "        vertical-align: top;\n",
       "    }\n",
       "\n",
       "    .dataframe thead th {\n",
       "        text-align: right;\n",
       "    }\n",
       "</style>\n",
       "<table border=\"1\" class=\"dataframe\">\n",
       "  <thead>\n",
       "    <tr style=\"text-align: right;\">\n",
       "      <th></th>\n",
       "      <th>Hippocampus</th>\n",
       "      <th>Lateral-Ventricles</th>\n",
       "      <th>Amygdala</th>\n",
       "      <th>Putamen</th>\n",
       "      <th>Caudate</th>\n",
       "    </tr>\n",
       "  </thead>\n",
       "  <tbody>\n",
       "    <tr>\n",
       "      <th>mean-vol</th>\n",
       "      <td>10770.732396</td>\n",
       "      <td>23208.657477</td>\n",
       "      <td>3779.890494</td>\n",
       "      <td>13517.240480</td>\n",
       "      <td>8726.351490</td>\n",
       "    </tr>\n",
       "    <tr>\n",
       "      <th>total-cov</th>\n",
       "      <td>1.389530</td>\n",
       "      <td>1.672704</td>\n",
       "      <td>1.556568</td>\n",
       "      <td>8.808640</td>\n",
       "      <td>2.079050</td>\n",
       "    </tr>\n",
       "    <tr>\n",
       "      <th>session-cov</th>\n",
       "      <td>1.069301</td>\n",
       "      <td>1.406157</td>\n",
       "      <td>1.675307</td>\n",
       "      <td>9.338202</td>\n",
       "      <td>2.004842</td>\n",
       "    </tr>\n",
       "    <tr>\n",
       "      <th>abs-diff-cov</th>\n",
       "      <td>0.320229</td>\n",
       "      <td>0.266547</td>\n",
       "      <td>0.118739</td>\n",
       "      <td>0.529562</td>\n",
       "      <td>0.074207</td>\n",
       "    </tr>\n",
       "    <tr>\n",
       "      <th>p-vals</th>\n",
       "      <td>0.002900</td>\n",
       "      <td>0.028500</td>\n",
       "      <td>0.316200</td>\n",
       "      <td>0.465900</td>\n",
       "      <td>0.695200</td>\n",
       "    </tr>\n",
       "  </tbody>\n",
       "</table>\n",
       "</div>"
      ],
      "text/plain": [
       "               Hippocampus  Lateral-Ventricles     Amygdala       Putamen  \\\n",
       "mean-vol      10770.732396        23208.657477  3779.890494  13517.240480   \n",
       "total-cov         1.389530            1.672704     1.556568      8.808640   \n",
       "session-cov       1.069301            1.406157     1.675307      9.338202   \n",
       "abs-diff-cov      0.320229            0.266547     0.118739      0.529562   \n",
       "p-vals            0.002900            0.028500     0.316200      0.465900   \n",
       "\n",
       "                  Caudate  \n",
       "mean-vol      8726.351490  \n",
       "total-cov        2.079050  \n",
       "session-cov      2.004842  \n",
       "abs-diff-cov     0.074207  \n",
       "p-vals           0.695200  "
      ]
     },
     "execution_count": 49,
     "metadata": {},
     "output_type": "execute_result"
    }
   ],
   "source": [
    "maclaren_fs71samseg_covs_df"
   ]
  },
  {
   "cell_type": "code",
   "execution_count": null,
   "metadata": {},
   "outputs": [],
   "source": []
  }
 ],
 "metadata": {
  "kernelspec": {
   "display_name": "Python 3",
   "language": "python",
   "name": "python3"
  },
  "language_info": {
   "codemirror_mode": {
    "name": "ipython",
    "version": 3
   },
   "file_extension": ".py",
   "mimetype": "text/x-python",
   "name": "python",
   "nbconvert_exporter": "python",
   "pygments_lexer": "ipython3",
   "version": "3.7.7"
  }
 },
 "nbformat": 4,
 "nbformat_minor": 4
}
