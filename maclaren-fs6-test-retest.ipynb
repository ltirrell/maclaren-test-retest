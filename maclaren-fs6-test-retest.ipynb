{
 "cells": [
  {
   "cell_type": "markdown",
   "metadata": {},
   "source": [
    "# Get data\n",
    "```\n",
    "mkdir -p /home/paul/cmet/data/20200714-maclaren-fs6/\n",
    "cd /home/paul/cmet/data/20200714-maclaren-fs6/\n",
    "aws s3 cp s3://cmet-scratch/maclaren-cmeds/demographics.tsv .\n",
    "aws s3 cp \\\n",
    "  --recursive \\\n",
    "  --exclude \"*\" \\\n",
    "  --include \"*.stats\" \\\n",
    "  s3://cmet-scratch/20200714-maclaren-fs6/ .\n",
    "```"
   ]
  },
  {
   "cell_type": "code",
   "execution_count": 1,
   "metadata": {},
   "outputs": [],
   "source": [
    "import json\n",
    "import os\n",
    "import fnmatch\n",
    "import pandas as pd\n",
    "import matplotlib.pyplot as plt\n",
    "import seaborn as sns\n",
    "import numpy as np\n",
    "# imports find_json_files(); load_json_file(); load_dataset(); load_fs_dataset()\n",
    "from cmeds import *\n",
    "# imports calc_cvs(); session_permute(); monte_carlo_perm_test\n",
    "from test_retest import *"
   ]
  },
  {
   "cell_type": "code",
   "execution_count": 2,
   "metadata": {},
   "outputs": [
    {
     "name": "stdout",
     "output_type": "stream",
     "text": [
      "Dropping the following subjects []\n"
     ]
    }
   ],
   "source": [
    "structs_of_interest = [\n",
    "    'Left-Lateral-Ventricle',\n",
    "    'Left-Hippocampus',\n",
    "    'Left-Amygdala',\n",
    "    'Left-Caudate',\n",
    "    'Left-Putamen',\n",
    "    'Right-Lateral-Ventricle',\n",
    "    'Right-Hippocampus',\n",
    "    'Right-Amygdala',\n",
    "    'Right-Caudate',\n",
    "    'Right-Putamen'\n",
    "]\n",
    "drop_subjects = []\n",
    "demofile = '/home/paul/cmet/data/20200714-maclaren-fs6/demographics.tsv'\n",
    "datadir = '/home/paul/cmet/data/20200714-maclaren-fs6/'\n",
    "maclaren_fs_vol_df = load_fs_dataset(datadir, demofile, structs_of_interest, drop_subjects=[])\n",
    "\n",
    "# Add some lateral regions together so we can directly compare to table 1 in MacLaren et al.\n",
    "regions = [             \n",
    "            [ ['Left-Hippocampus', 'Right-Hippocampus'],'Hippocampus' ],\n",
    "            [ ['Left-Lateral-Ventricle', 'Right-Lateral-Ventricle'],'Lateral-Ventricles' ],\n",
    "            [ ['Left-Amygdala', 'Right-Amygdala',],'Amygdala' ],\n",
    "            [ ['Left-Putamen', 'Right-Putamen'],'Putamen' ],\n",
    "            [ ['Left-Caudate', 'Right-Caudate'],'Caudate' ],\n",
    "          ]\n",
    "maclaren_fs_vol_df = add_regions(maclaren_fs_vol_df,regions)"
   ]
  },
  {
   "cell_type": "code",
   "execution_count": 8,
   "metadata": {},
   "outputs": [],
   "source": [
    "# The column name that holds session info in the demographics.tsv\n",
    "session_col='session'\n",
    "# The column name that holds subject info in the demographics.tsv\n",
    "subject_col='subject_num'\n",
    "structs_of_interest = ['Hippocampus', 'Lateral-Ventricles', 'Amygdala', 'Putamen', 'Caudate']\n",
    "\n",
    "session_list= [1,2,3,4,5,6,7,8,9,10,11,12,13,14,15,16,17,18,19,20]\n",
    "subject_list= [1,2,3]\n",
    "\n",
    "#cvs_macmethod = calc_cvs(maclaren_fs_vol_df,subject_list,session_list,subject_col,session_col,structs_of_interest,method='maclaren')\n",
    "\n",
    "n = 1000\n",
    "perm_test_reults = monte_carlo_perm_test(maclaren_fs_vol_df, subject_list, session_list, subject_col, session_col, structs_of_interest, n_itrs=n, method='gluer')"
   ]
  },
  {
   "cell_type": "markdown",
   "metadata": {},
   "source": [
    "Comparable to [Table 1 in MacLaren et al](https://www.nature.com/articles/sdata201437/tables/2)"
   ]
  },
  {
   "cell_type": "code",
   "execution_count": 9,
   "metadata": {},
   "outputs": [
    {
     "data": {
      "text/html": [
       "<div>\n",
       "<style scoped>\n",
       "    .dataframe tbody tr th:only-of-type {\n",
       "        vertical-align: middle;\n",
       "    }\n",
       "\n",
       "    .dataframe tbody tr th {\n",
       "        vertical-align: top;\n",
       "    }\n",
       "\n",
       "    .dataframe thead th {\n",
       "        text-align: right;\n",
       "    }\n",
       "</style>\n",
       "<table border=\"1\" class=\"dataframe\">\n",
       "  <thead>\n",
       "    <tr style=\"text-align: right;\">\n",
       "      <th></th>\n",
       "      <th>Hippocampus</th>\n",
       "      <th>Lateral-Ventricles</th>\n",
       "      <th>Amygdala</th>\n",
       "      <th>Putamen</th>\n",
       "      <th>Caudate</th>\n",
       "    </tr>\n",
       "  </thead>\n",
       "  <tbody>\n",
       "    <tr>\n",
       "      <th>mean-vol</th>\n",
       "      <td>8537.573333</td>\n",
       "      <td>12115.973333</td>\n",
       "      <td>3477.687500</td>\n",
       "      <td>9235.430000</td>\n",
       "      <td>7031.299167</td>\n",
       "    </tr>\n",
       "    <tr>\n",
       "      <th>total-cov</th>\n",
       "      <td>2.012736</td>\n",
       "      <td>2.563331</td>\n",
       "      <td>3.115178</td>\n",
       "      <td>3.391090</td>\n",
       "      <td>1.631964</td>\n",
       "    </tr>\n",
       "    <tr>\n",
       "      <th>session-cov</th>\n",
       "      <td>2.124360</td>\n",
       "      <td>1.164058</td>\n",
       "      <td>3.030942</td>\n",
       "      <td>3.585021</td>\n",
       "      <td>1.546442</td>\n",
       "    </tr>\n",
       "    <tr>\n",
       "      <th>abs-diff-cov</th>\n",
       "      <td>0.111624</td>\n",
       "      <td>1.399273</td>\n",
       "      <td>0.084235</td>\n",
       "      <td>0.193931</td>\n",
       "      <td>0.085523</td>\n",
       "    </tr>\n",
       "    <tr>\n",
       "      <th>p-vals</th>\n",
       "      <td>0.405000</td>\n",
       "      <td>0.000000</td>\n",
       "      <td>0.697000</td>\n",
       "      <td>0.483000</td>\n",
       "      <td>0.426000</td>\n",
       "    </tr>\n",
       "  </tbody>\n",
       "</table>\n",
       "</div>"
      ],
      "text/plain": [
       "              Hippocampus  Lateral-Ventricles     Amygdala      Putamen  \\\n",
       "mean-vol      8537.573333        12115.973333  3477.687500  9235.430000   \n",
       "total-cov        2.012736            2.563331     3.115178     3.391090   \n",
       "session-cov      2.124360            1.164058     3.030942     3.585021   \n",
       "abs-diff-cov     0.111624            1.399273     0.084235     0.193931   \n",
       "p-vals           0.405000            0.000000     0.697000     0.483000   \n",
       "\n",
       "                  Caudate  \n",
       "mean-vol      7031.299167  \n",
       "total-cov        1.631964  \n",
       "session-cov      1.546442  \n",
       "abs-diff-cov     0.085523  \n",
       "p-vals           0.426000  "
      ]
     },
     "execution_count": 9,
     "metadata": {},
     "output_type": "execute_result"
    }
   ],
   "source": [
    "perm_test_reults"
   ]
  },
  {
   "cell_type": "code",
   "execution_count": null,
   "metadata": {},
   "outputs": [],
   "source": []
  }
 ],
 "metadata": {
  "kernelspec": {
   "display_name": "Python 3",
   "language": "python",
   "name": "python3"
  },
  "language_info": {
   "codemirror_mode": {
    "name": "ipython",
    "version": 3
   },
   "file_extension": ".py",
   "mimetype": "text/x-python",
   "name": "python",
   "nbconvert_exporter": "python",
   "pygments_lexer": "ipython3",
   "version": "3.7.7"
  }
 },
 "nbformat": 4,
 "nbformat_minor": 4
}
