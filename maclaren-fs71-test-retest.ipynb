{
 "cells": [
  {
   "cell_type": "markdown",
   "metadata": {},
   "source": [
    "# Get data\n",
    "```\n",
    "mkdir -p /home/paul/cmet/data/20200811-maclaren-fs-7.1-samseg-and-aseg/\n",
    "cd /home/paul/cmet/data/20200811-maclaren-fs-7.1-samseg-and-aseg/\n",
    "aws s3 cp s3://cmet-scratch/maclaren-cmeds/demographics.tsv .\n",
    "aws s3 cp \\\n",
    "  --recursive \\\n",
    "  --exclude \"*\" \\\n",
    "  --include \"*.stats\" \\\n",
    "  s3://cmet-scratch/20200811-maclaren-fs-7.1-samseg-and-aseg/ .\n",
    "```"
   ]
  },
  {
   "cell_type": "markdown",
   "metadata": {},
   "source": [
    "The following runs did not recon (no aseg.stats):\n",
    "- sub-01_run-21\n",
    "- sub-01_run-27\n",
    "- sub-01_run-31\n",
    "- sub-01_run-34\n",
    "- sub-01_run-36\n",
    "- sub-01_run-37"
   ]
  },
  {
   "cell_type": "code",
   "execution_count": 1,
   "metadata": {},
   "outputs": [],
   "source": [
    "import json\n",
    "import os\n",
    "import fnmatch\n",
    "import pandas as pd\n",
    "import matplotlib.pyplot as plt\n",
    "import seaborn as sns\n",
    "import numpy as np\n",
    "# imports find_json_files(); load_json_file(); load_dataset(); load_fs_dataset()\n",
    "from cmeds import *\n",
    "# imports calc_cvs(); session_permute(); monte_carlo_perm_test\n",
    "from test_retest import *"
   ]
  },
  {
   "cell_type": "code",
   "execution_count": 2,
   "metadata": {},
   "outputs": [
    {
     "name": "stdout",
     "output_type": "stream",
     "text": [
      "Dropping the following subjects []\n"
     ]
    }
   ],
   "source": [
    "structs_of_interest = [\n",
    "    'Left-Lateral-Ventricle',\n",
    "    'Left-Hippocampus',\n",
    "    'Left-Amygdala',\n",
    "    'Left-Caudate',\n",
    "    'Left-Putamen',\n",
    "    'Right-Lateral-Ventricle',\n",
    "    'Right-Hippocampus',\n",
    "    'Right-Amygdala',\n",
    "    'Right-Caudate',\n",
    "    'Right-Putamen'\n",
    "]\n",
    "drop_subjects = []\n",
    "demofile = '/home/paul/cmet/data/20200811-maclaren-fs-7.1-samseg-and-aseg/demographics.tsv'\n",
    "datadir = '/home/paul/cmet/data/20200811-maclaren-fs-7.1-samseg-and-aseg/'\n",
    "maclaren_fs_vol_df = load_fs_dataset(datadir, demofile, structs_of_interest, drop_subjects=[])\n",
    "\n",
    "# Add some lateral regions together so we can directly compare to table 1 in MacLaren et al.\n",
    "regions = [             \n",
    "            [ ['Left-Hippocampus', 'Right-Hippocampus'],'Hippocampus' ],\n",
    "            [ ['Left-Lateral-Ventricle', 'Right-Lateral-Ventricle'],'Lateral-Ventricles' ],\n",
    "            [ ['Left-Amygdala', 'Right-Amygdala',],'Amygdala' ],\n",
    "            [ ['Left-Putamen', 'Right-Putamen'],'Putamen' ],\n",
    "            [ ['Left-Caudate', 'Right-Caudate'],'Caudate' ],\n",
    "          ]\n",
    "maclaren_fs_vol_df = add_regions(maclaren_fs_vol_df,regions)"
   ]
  },
  {
   "cell_type": "code",
   "execution_count": 13,
   "metadata": {},
   "outputs": [],
   "source": [
    "# The column name that holds session info in the demographics.tsv\n",
    "session_col='session'\n",
    "# The column name that holds subject info in the demographics.tsv\n",
    "subject_col='subject_num'\n",
    "structs_of_interest = ['Hippocampus', 'Lateral-Ventricles', 'Amygdala', 'Putamen', 'Caudate']\n",
    "\n",
    "\n",
    "#session_list= [1,2,3,4,5,6,7,8,9,10,11,12,13,14,15,16,17,18,19,20]\n",
    "# Removing the following sessions due to sub1 processing errors:\n",
    "# 11 14 16 17 18 19\n",
    "session_list= [1,2,3,4,5,6,7,8,9,10,12,13,15,20]\n",
    "subject_list= [1,2,3]\n",
    "\n",
    "#cvs_macmethod = calc_cvs(maclaren_fs_vol_df,subject_list,session_list,subject_col,session_col,structs_of_interest,method='maclaren')\n",
    "\n",
    "n = 1000\n",
    "perm_test_reults = monte_carlo_perm_test(maclaren_fs_vol_df, subject_list, session_list, subject_col, session_col, structs_of_interest, n_itrs=n, method='gluer')"
   ]
  },
  {
   "cell_type": "markdown",
   "metadata": {},
   "source": [
    "Comparable to [Table 1 in MacLaren et al](https://www.nature.com/articles/sdata201437/tables/2)"
   ]
  },
  {
   "cell_type": "code",
   "execution_count": 14,
   "metadata": {},
   "outputs": [
    {
     "data": {
      "text/html": [
       "<div>\n",
       "<style scoped>\n",
       "    .dataframe tbody tr th:only-of-type {\n",
       "        vertical-align: middle;\n",
       "    }\n",
       "\n",
       "    .dataframe tbody tr th {\n",
       "        vertical-align: top;\n",
       "    }\n",
       "\n",
       "    .dataframe thead th {\n",
       "        text-align: right;\n",
       "    }\n",
       "</style>\n",
       "<table border=\"1\" class=\"dataframe\">\n",
       "  <thead>\n",
       "    <tr style=\"text-align: right;\">\n",
       "      <th></th>\n",
       "      <th>Hippocampus</th>\n",
       "      <th>Lateral-Ventricles</th>\n",
       "      <th>Amygdala</th>\n",
       "      <th>Putamen</th>\n",
       "      <th>Caudate</th>\n",
       "    </tr>\n",
       "  </thead>\n",
       "  <tbody>\n",
       "    <tr>\n",
       "      <th>mean-vol</th>\n",
       "      <td>8589.077381</td>\n",
       "      <td>12267.938095</td>\n",
       "      <td>3563.077381</td>\n",
       "      <td>9295.917857</td>\n",
       "      <td>7061.282143</td>\n",
       "    </tr>\n",
       "    <tr>\n",
       "      <th>total-cov</th>\n",
       "      <td>24.318034</td>\n",
       "      <td>24.382454</td>\n",
       "      <td>24.440787</td>\n",
       "      <td>24.353302</td>\n",
       "      <td>24.326318</td>\n",
       "    </tr>\n",
       "    <tr>\n",
       "      <th>session-cov</th>\n",
       "      <td>1.937433</td>\n",
       "      <td>0.879134</td>\n",
       "      <td>3.389617</td>\n",
       "      <td>1.982030</td>\n",
       "      <td>1.521334</td>\n",
       "    </tr>\n",
       "    <tr>\n",
       "      <th>abs-diff-cov</th>\n",
       "      <td>22.380600</td>\n",
       "      <td>23.503320</td>\n",
       "      <td>21.051170</td>\n",
       "      <td>22.371272</td>\n",
       "      <td>22.804983</td>\n",
       "    </tr>\n",
       "    <tr>\n",
       "      <th>p-vals</th>\n",
       "      <td>0.001000</td>\n",
       "      <td>0.000000</td>\n",
       "      <td>0.001000</td>\n",
       "      <td>0.000000</td>\n",
       "      <td>0.000000</td>\n",
       "    </tr>\n",
       "  </tbody>\n",
       "</table>\n",
       "</div>"
      ],
      "text/plain": [
       "              Hippocampus  Lateral-Ventricles     Amygdala      Putamen  \\\n",
       "mean-vol      8589.077381        12267.938095  3563.077381  9295.917857   \n",
       "total-cov       24.318034           24.382454    24.440787    24.353302   \n",
       "session-cov      1.937433            0.879134     3.389617     1.982030   \n",
       "abs-diff-cov    22.380600           23.503320    21.051170    22.371272   \n",
       "p-vals           0.001000            0.000000     0.001000     0.000000   \n",
       "\n",
       "                  Caudate  \n",
       "mean-vol      7061.282143  \n",
       "total-cov       24.326318  \n",
       "session-cov      1.521334  \n",
       "abs-diff-cov    22.804983  \n",
       "p-vals           0.000000  "
      ]
     },
     "execution_count": 14,
     "metadata": {},
     "output_type": "execute_result"
    }
   ],
   "source": [
    "perm_test_reults"
   ]
  }
 ],
 "metadata": {
  "kernelspec": {
   "display_name": "Python 3",
   "language": "python",
   "name": "python3"
  },
  "language_info": {
   "codemirror_mode": {
    "name": "ipython",
    "version": 3
   },
   "file_extension": ".py",
   "mimetype": "text/x-python",
   "name": "python",
   "nbconvert_exporter": "python",
   "pygments_lexer": "ipython3",
   "version": "3.7.7"
  }
 },
 "nbformat": 4,
 "nbformat_minor": 4
}
