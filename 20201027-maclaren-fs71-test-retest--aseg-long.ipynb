{
 "cells": [
  {
   "cell_type": "markdown",
   "metadata": {},
   "source": [
    "# Get data\n",
    "```\n",
    "mkdir -p /home/paul/cmet/data/20201006-maclaren-fs-7.1-samseg-aseg-long/\n",
    "cd /home/paul/cmet/data/20201006-maclaren-fs-7.1-samseg-aseg-long/\n",
    "aws s3 cp s3://cmet-scratch/maclaren-cmeds/demographics.tsv .\n",
    "aws s3 cp \\\n",
    "  --recursive \\\n",
    "  --exclude \"*\" \\\n",
    "  --include \"*.stats\" \\\n",
    "  s3://cmet-scratch/20201006-maclaren-fs-7.1-samseg-aseg-long/ .\n",
    "```"
   ]
  },
  {
   "cell_type": "markdown",
   "metadata": {},
   "source": [
    "## Split data into seperate subdirs\n",
    "To faciliate processing\n",
    "```\n",
    "cd /home/paul/cmet/data/20201006-maclaren-fs-7.1-samseg-aseg-long/\n",
    "mkdir cross\n",
    "mkdir long\n",
    "mkdir long-base\n",
    "mv sub-??_run-?? ./cross/\n",
    "mv sub-??_base ./long-base\n",
    "mv sub* ./long/\n",
    "```\n",
    "\n",
    "and then rename the long dirs (gross)\n",
    "```\n",
    "cd ./long\n",
    "for DIR_STEM in `ls -1|sed 's/\\..*//'`; do  SUB_NUM=`echo $DIR_STEM|sed 's/sub-//'|sed 's/_run.*//'`; mv ${DIR_STEM}.long.sub-${SUB_NUM}_base ${DIR_STEM}; done\n",
    "```"
   ]
  },
  {
   "cell_type": "code",
   "execution_count": 9,
   "metadata": {},
   "outputs": [],
   "source": [
    "import json\n",
    "import os\n",
    "import fnmatch\n",
    "import pandas as pd\n",
    "import matplotlib.pyplot as plt\n",
    "import seaborn as sns\n",
    "import numpy as np\n",
    "# imports find_json_files(); load_json_file(); load_dataset(); load_fs_dataset()\n",
    "from cmeds import *\n",
    "# imports calc_cvs(); session_permute(); monte_carlo_perm_test\n",
    "from test_retest import *"
   ]
  },
  {
   "cell_type": "code",
   "execution_count": 10,
   "metadata": {},
   "outputs": [
    {
     "name": "stdout",
     "output_type": "stream",
     "text": [
      "Dropping the following subjects []\n"
     ]
    }
   ],
   "source": [
    "structs_of_interest = [\n",
    "    'Left-Lateral-Ventricle',\n",
    "    'Left-Hippocampus',\n",
    "    'Left-Amygdala',\n",
    "    'Left-Caudate',\n",
    "    'Left-Putamen',\n",
    "    'Right-Lateral-Ventricle',\n",
    "    'Right-Hippocampus',\n",
    "    'Right-Amygdala',\n",
    "    'Right-Caudate',\n",
    "    'Right-Putamen'\n",
    "]\n",
    "# Add some lateral regions together so we can directly compare to table 1 in MacLaren et al.\n",
    "regions = [             \n",
    "            [ ['Left-Hippocampus', 'Right-Hippocampus'],'Hippocampus' ],\n",
    "            [ ['Left-Lateral-Ventricle', 'Right-Lateral-Ventricle'],'Lateral-Ventricles' ],\n",
    "            [ ['Left-Amygdala', 'Right-Amygdala',],'Amygdala' ],\n",
    "            [ ['Left-Putamen', 'Right-Putamen'],'Putamen' ],\n",
    "            [ ['Left-Caudate', 'Right-Caudate'],'Caudate' ],\n",
    "          ]\n",
    "drop_subjects = []\n",
    "demofile = '/home/paul/cmet/data/20201006-maclaren-fs-7.1-samseg-aseg-long/demographics.tsv'\n",
    "datadir = '/home/paul/cmet/data/20201006-maclaren-fs-7.1-samseg-aseg-long/long'\n",
    "maclaren_fs_vol_aseg_df = load_fs_dataset(datadir, demofile, structs_of_interest, drop_subjects=[])\n",
    "maclaren_fs_vol_aseg_df = add_regions(maclaren_fs_vol_aseg_df,regions)\n",
    "\n",
    "#maclaren_fs_vol_samseg_df = load_fssamseg_dataset(datadir, demofile, structs_of_interest, drop_subjects=[])\n",
    "#maclaren_fs_vol_samseg_df = add_regions(maclaren_fs_vol_samseg_df,regions)"
   ]
  },
  {
   "cell_type": "code",
   "execution_count": 14,
   "metadata": {},
   "outputs": [],
   "source": [
    "# The column name that holds session info in the demographics.tsv\n",
    "session_col='session'\n",
    "# The column name that holds subject info in the demographics.tsv\n",
    "subject_col='subject_num'\n",
    "structs_of_interest = ['Hippocampus', 'Lateral-Ventricles', 'Amygdala', 'Putamen', 'Caudate']\n",
    "\n",
    "\n",
    "session_list= [1,2,3,4,5,6,7,8,9,10,11,12,13,14,15,16,17,18,19,20]\n",
    "subject_list= [1,2,3]\n",
    "\n",
    "n = 1000\n",
    "perm_test_reults_aseg = monte_carlo_perm_test(maclaren_fs_vol_aseg_df, subject_list, session_list, subject_col, session_col, structs_of_interest, n_itrs=n, method='gluer')\n",
    "#perm_test_reults_samseg = monte_carlo_perm_test(maclaren_fs_vol_samseg_df, subject_list, session_list, subject_col, session_col, structs_of_interest, n_itrs=n, method='gluer')\n"
   ]
  },
  {
   "cell_type": "markdown",
   "metadata": {},
   "source": [
    "Comparable to [Table 1 in MacLaren et al](https://www.nature.com/articles/sdata201437/tables/2)"
   ]
  },
  {
   "cell_type": "code",
   "execution_count": 15,
   "metadata": {},
   "outputs": [
    {
     "data": {
      "text/html": [
       "<div>\n",
       "<style scoped>\n",
       "    .dataframe tbody tr th:only-of-type {\n",
       "        vertical-align: middle;\n",
       "    }\n",
       "\n",
       "    .dataframe tbody tr th {\n",
       "        vertical-align: top;\n",
       "    }\n",
       "\n",
       "    .dataframe thead th {\n",
       "        text-align: right;\n",
       "    }\n",
       "</style>\n",
       "<table border=\"1\" class=\"dataframe\">\n",
       "  <thead>\n",
       "    <tr style=\"text-align: right;\">\n",
       "      <th></th>\n",
       "      <th>Hippocampus</th>\n",
       "      <th>Lateral-Ventricles</th>\n",
       "      <th>Amygdala</th>\n",
       "      <th>Putamen</th>\n",
       "      <th>Caudate</th>\n",
       "    </tr>\n",
       "  </thead>\n",
       "  <tbody>\n",
       "    <tr>\n",
       "      <th>mean-vol</th>\n",
       "      <td>8699.919167</td>\n",
       "      <td>11752.483333</td>\n",
       "      <td>3700.818333</td>\n",
       "      <td>10110.419167</td>\n",
       "      <td>7624.127500</td>\n",
       "    </tr>\n",
       "    <tr>\n",
       "      <th>total-cov</th>\n",
       "      <td>1.120952</td>\n",
       "      <td>2.707812</td>\n",
       "      <td>1.355289</td>\n",
       "      <td>1.211011</td>\n",
       "      <td>0.846865</td>\n",
       "    </tr>\n",
       "    <tr>\n",
       "      <th>session-cov</th>\n",
       "      <td>1.152905</td>\n",
       "      <td>1.756832</td>\n",
       "      <td>1.444742</td>\n",
       "      <td>1.102368</td>\n",
       "      <td>0.854518</td>\n",
       "    </tr>\n",
       "    <tr>\n",
       "      <th>abs-diff-cov</th>\n",
       "      <td>0.031953</td>\n",
       "      <td>0.950980</td>\n",
       "      <td>0.089453</td>\n",
       "      <td>0.108644</td>\n",
       "      <td>0.007652</td>\n",
       "    </tr>\n",
       "    <tr>\n",
       "      <th>p-vals</th>\n",
       "      <td>0.677000</td>\n",
       "      <td>0.000000</td>\n",
       "      <td>0.342000</td>\n",
       "      <td>0.150000</td>\n",
       "      <td>0.896000</td>\n",
       "    </tr>\n",
       "  </tbody>\n",
       "</table>\n",
       "</div>"
      ],
      "text/plain": [
       "              Hippocampus  Lateral-Ventricles     Amygdala       Putamen  \\\n",
       "mean-vol      8699.919167        11752.483333  3700.818333  10110.419167   \n",
       "total-cov        1.120952            2.707812     1.355289      1.211011   \n",
       "session-cov      1.152905            1.756832     1.444742      1.102368   \n",
       "abs-diff-cov     0.031953            0.950980     0.089453      0.108644   \n",
       "p-vals           0.677000            0.000000     0.342000      0.150000   \n",
       "\n",
       "                  Caudate  \n",
       "mean-vol      7624.127500  \n",
       "total-cov        0.846865  \n",
       "session-cov      0.854518  \n",
       "abs-diff-cov     0.007652  \n",
       "p-vals           0.896000  "
      ]
     },
     "execution_count": 15,
     "metadata": {},
     "output_type": "execute_result"
    }
   ],
   "source": [
    "perm_test_reults_aseg"
   ]
  }
 ],
 "metadata": {
  "kernelspec": {
   "display_name": "Python 3",
   "language": "python",
   "name": "python3"
  },
  "language_info": {
   "codemirror_mode": {
    "name": "ipython",
    "version": 3
   },
   "file_extension": ".py",
   "mimetype": "text/x-python",
   "name": "python",
   "nbconvert_exporter": "python",
   "pygments_lexer": "ipython3",
   "version": "3.7.7"
  }
 },
 "nbformat": 4,
 "nbformat_minor": 4
}
